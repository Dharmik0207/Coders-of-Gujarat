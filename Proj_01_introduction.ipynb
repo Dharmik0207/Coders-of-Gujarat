{
 "cells": [
  {
   "cell_type": "markdown",
   "id": "455a8cbd-f01b-4aa2-9ce5-555c45870e13",
   "metadata": {},
   "source": [
    "# Welcome to CodeBook – Your Data Science Internship Begins!\n",
    "\n",
    "## **Introduction**\n",
    "Congratulations! You have just been hired as a **Data Scientist Intern** at **CodeBook – The Social Media for Coders**. This Gujarat-based company is offering you a **₹10 LPA job** if you successfully complete this **1-month internship**. But before you get there, you must prove your skills using **only Python**—no pandas, NumPy, or fancy libraries!\n",
    "\n",
    "Your manager Puneet Kumar has assigned you your **first task**: analyzing a data dump of CodeBook users using pure python. Your job is to **load and explore the data** to understand its structure.\n",
    "\n",
    "---\n",
    "\n",
    "## **Task 1: Load the User Data**\n",
    "Your manager has given you a dataset containing information about CodeBook users, their connections (friends), and the pages they have liked.\n",
    "\n",
    "This is how the data will look like (in JSON format):\n",
    "```json\n",
    "{\n",
    "    \"users\": [\n",
    "        {\"id\": 1, \"name\": \"Amit\", \"friends\": [2, 3], \"liked_pages\": [101]},\n",
    "        {\"id\": 2, \"name\": \"Priya\", \"friends\": [1, 4], \"liked_pages\": [102]},\n",
    "        {\"id\": 3, \"name\": \"Rahul\", \"friends\": [1], \"liked_pages\": [101, 103]},\n",
    "        {\"id\": 4, \"name\": \"Sara\", \"friends\": [2], \"liked_pages\": [104]}\n",
    "    ],\n",
    "    \"pages\": [\n",
    "        {\"id\": 101, \"name\": \"Python Developers\"},\n",
    "        {\"id\": 102, \"name\": \"Data Science Enthusiasts\"},\n",
    "        {\"id\": 103, \"name\": \"AI & ML Community\"},\n",
    "        {\"id\": 104, \"name\": \"Web Dev Hub\"}\n",
    "    ]\n",
    "}\n",
    "```\n",
    "Read this data and understand its structure. The data contains three main components:\n",
    "1. **Users**: Each user has an ID, name, a list of friends (by their IDs), and a list of liked pages (by their IDs).\n",
    "2. **Pages**: Each page has an ID and a name.\n",
    "3. **Connections**: Users can have multiple friends and can like multiple pages.\n",
    "\n",
    "---\n",
    "\n",
    "## **Task 2: Read and Display the Data using Python**\n",
    "Your goal is to **load** this data and **print** it in a structured way. Use Python's built-in modules to accomplish this.\n",
    "\n",
    "### **Steps:**\n",
    "1. Save the JSON data in a file (`codebook_data.json`).\n",
    "2. Read the JSON file using Python.\n",
    "3. Print user details and their connections.\n",
    "4. Print available pages.\n",
    "\n",
    "---\n",
    "\n",
    "## **Code Implementation**\n",
    "Here's a simple way to load and display the data:\n",
    "\n",
    "```python\n",
    "import json\n",
    "\n",
    "# Load the JSON file\n",
    "def load_data(filename):\n",
    "    with open(filename, \"r\") as file:\n",
    "        data = json.load(file)\n",
    "    return data\n",
    "\n",
    "# Display users and their connections\n",
    "def display_users(data):\n",
    "    print(\"Users and Their Connections:\\n\")\n",
    "    for user in data[\"users\"]:\n",
    "        print(f\"{user['name']} (ID: {user['id']}) - Friends: {user['friends']} - Liked Pages: {user['liked_pages']}\")\n",
    "    print(\"\\nPages:\\n\")\n",
    "    for page in data[\"pages\"]:\n",
    "        print(f\"{page['id']}: {page['name']}\")\n",
    "\n",
    "# Load and display the data\n",
    "data = load_data(\"codebook_data.json\")\n",
    "display_users(data)\n",
    "```\n",
    "\n",
    "---\n",
    "\n",
    "## **Expected Output:**\n",
    "```\n",
    "Users and Their Connections:\n",
    "Amit (ID: 1) - Friends: [2, 3] - Liked Pages: [101]\n",
    "Priya (ID: 2) - Friends: [1, 4] - Liked Pages: [102]\n",
    "Rahul (ID: 3) - Friends: [1] - Liked Pages: [101, 103]\n",
    "Sara (ID: 4) - Friends: [2] - Liked Pages: [104]\n",
    "\n",
    "Pages:\n",
    "101: Python Developers\n",
    "102: Data Science Enthusiasts\n",
    "103: AI & ML Community\n",
    "104: Web Dev Hub\n",
    "```\n",
    "\n",
    "---\n",
    "\n",
    "## **Next Steps**\n",
    "Your manager is happy with your progress but says: **\"The data looks messy. Can you clean and structure it better?\"**"
   ]
  },
  {
   "cell_type": "code",
   "execution_count": 1,
   "id": "92c2c4ac-996d-4d84-acf0-94a72f3616b4",
   "metadata": {},
   "outputs": [],
   "source": [
    "import json"
   ]
  },
  {
   "cell_type": "code",
   "execution_count": 2,
   "id": "0ddf83e1-5aa3-43ed-8451-15a8e7247659",
   "metadata": {},
   "outputs": [],
   "source": [
    "#Lets write a function to load the data\n",
    "def load_data(filename):\n",
    "    with open(filename, \"r\") as f:\n",
    "        data = json.load(f)\n",
    "    return data"
   ]
  },
  {
   "cell_type": "code",
   "execution_count": 4,
   "id": "b54629ae-9fb7-494d-85df-b8ce8431979f",
   "metadata": {},
   "outputs": [],
   "source": [
    "data = load_data(\"data.json\")"
   ]
  },
  {
   "cell_type": "code",
   "execution_count": 5,
   "id": "f396d930-07b2-40c0-a23d-887decb40aa1",
   "metadata": {},
   "outputs": [
    {
     "data": {
      "text/plain": [
       "{'users': [{'id': 1, 'name': 'Amit', 'friends': [2, 3], 'liked_pages': [101]},\n",
       "  {'id': 2, 'name': 'Priya', 'friends': [1, 4], 'liked_pages': [102]},\n",
       "  {'id': 3, 'name': 'Rahul', 'friends': [1], 'liked_pages': [101, 103]},\n",
       "  {'id': 4, 'name': 'Sara', 'friends': [2], 'liked_pages': [104]}],\n",
       " 'pages': [{'id': 101, 'name': 'Python Developers'},\n",
       "  {'id': 102, 'name': 'Data Science Enthusiasts'},\n",
       "  {'id': 103, 'name': 'AI & ML Community'},\n",
       "  {'id': 104, 'name': 'Web Dev Hub'}]}"
      ]
     },
     "execution_count": 5,
     "metadata": {},
     "output_type": "execute_result"
    }
   ],
   "source": [
    "data"
   ]
  },
  {
   "cell_type": "code",
   "execution_count": 6,
   "id": "a17794c5-9848-4d30-8e67-596d8a6a8b99",
   "metadata": {},
   "outputs": [
    {
     "data": {
      "text/plain": [
       "dict"
      ]
     },
     "execution_count": 6,
     "metadata": {},
     "output_type": "execute_result"
    }
   ],
   "source": [
    "type(data)"
   ]
  },
  {
   "cell_type": "code",
   "execution_count": 18,
   "id": "5254055b-4f6a-4942-aa77-5f38d16085bc",
   "metadata": {},
   "outputs": [
    {
     "name": "stdout",
     "output_type": "stream",
     "text": [
      "Users and their connections:\n",
      "ID:1 - Amit is friend with: [2, 3] and liked pages are [101].\n",
      "ID:2 - Priya is friend with: [1, 4] and liked pages are [102].\n",
      "ID:3 - Rahul is friend with: [1] and liked pages are [101, 103].\n",
      "ID:4 - Sara is friend with: [2] and liked pages are [104].\n",
      "\n",
      "Pages Information:\n",
      "101: Python Developers\n",
      "102: Data Science Enthusiasts\n",
      "103: AI & ML Community\n",
      "104: Web Dev Hub\n"
     ]
    }
   ],
   "source": [
    "# write a function to display users and their connections\n",
    "def display_users(data):\n",
    "    print(\"Users and their connections:\")\n",
    "    for user in data['users']:\n",
    "        print(f\"ID:{user['id']} - {user['name']} is friend with: {user['friends']} and liked pages are {user['liked_pages']}.\")\n",
    "    print(\"\\nPages Information:\")\n",
    "    for page in data['pages']:\n",
    "        print(f\"{page['id']}: {page['name']}\")\n",
    "\n",
    "display_users(data)"
   ]
  },
  {
   "cell_type": "code",
   "execution_count": null,
   "id": "d032c09a-1865-43e9-846f-209d69ed7909",
   "metadata": {},
   "outputs": [],
   "source": []
  }
 ],
 "metadata": {
  "kernelspec": {
   "display_name": "Python 3 (ipykernel)",
   "language": "python",
   "name": "python3"
  },
  "language_info": {
   "codemirror_mode": {
    "name": "ipython",
    "version": 3
   },
   "file_extension": ".py",
   "mimetype": "text/x-python",
   "name": "python",
   "nbconvert_exporter": "python",
   "pygments_lexer": "ipython3",
   "version": "3.13.5"
  }
 },
 "nbformat": 4,
 "nbformat_minor": 5
}
